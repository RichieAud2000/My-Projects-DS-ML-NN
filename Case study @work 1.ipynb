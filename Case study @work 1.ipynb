{
 "cells": [
  {
   "cell_type": "code",
   "execution_count": null,
   "id": "80d9e13f",
   "metadata": {},
   "outputs": [],
   "source": [
    "import pandas as pd\n",
    "\n",
    "INC_ID = input('Enter your incident_id: ')\n",
    "Provider_name = input('Enter your Provider name: ')\n",
    "df = pd.read_csv('TRACKER XYZ-R@@M - Sheet1.csv') \n",
    "\n",
    "for index, row in df.iterrows():\n",
    "    if  INC_ID == row['INcident_ID'] and Provider_name == row['Px NAME']:\n",
    "        df.assign(*,df1) = df1\n",
    "        print(index, row['INcident_ID'], row['Px NAME'], row['NOTES '],'\\n')\n"
   ]
  },
  {
   "cell_type": "code",
   "execution_count": null,
   "id": "a574b85b",
   "metadata": {},
   "outputs": [],
   "source": [
    "import pandas as pd\n",
    "INC_ID = input('Enter your incident_id: ')\n",
    "Provider_name = input('Enter your Provider name: ')\n",
    "\n",
    "df = pd.read_csv('TRACKER XYZ-R@@M - Sheet1 (1).csv')\n",
    "\n",
    "for index, row in df.iterrows():\n",
    "    if  INC_ID == row['INcident_ID'] and Provider_name == row['Px NAME']:\n",
    "        keep = [\"reje\"]\n",
    "        pd.set_option('display.max_colwidth', -1)\n",
    "        print(df[df.NOTES.str.contains('|'.join(keep))])\n",
    "   "
   ]
  },
  {
   "cell_type": "code",
   "execution_count": null,
   "id": "c5d17bd2",
   "metadata": {},
   "outputs": [],
   "source": [
    "for index, row in df.iterrows():\n",
    "    if  INC_ID ==  in row['INcident_ID']:\n",
    "        print(index, row['INcident_ID'], row['Px NAME'], row[df.NOTES.str.contains('|'.join(keep))],'\\n')"
   ]
  },
  {
   "cell_type": "code",
   "execution_count": null,
   "id": "18fb8c81",
   "metadata": {},
   "outputs": [],
   "source": [
    "keep = [\"reje\"]\n",
    "pd.set_option('display.max_colwidth', None)\n",
    "print('\\t','\\n', df[df.NOTES.str.contains('|'.join(keep))],'\\n','\\t')\n",
    "print(df[df.NOTES.str.contains('|'.join(keep))])\n",
    "\n",
    "\n",
    "row['NOTES'] = #random copied element"
   ]
  },
  {
   "cell_type": "code",
   "execution_count": null,
   "id": "99129618",
   "metadata": {},
   "outputs": [],
   "source": [
    "import pandas as pd\n",
    "INC_ID = input('Enter your incident_id: ')\n",
    "Provider_name = input('Enter your Provider name: ')\n",
    "\n",
    "df = pd.read_csv('TRACKER XYZ-R@@M - Sheet1 (1).csv')\n",
    "\n",
    "for index, row in df.iterrows():\n",
    "    if  INC_ID == row['INcident_ID'] and Provider_name == row['Px NAME']:\n",
    "        keep = [\"reje\"]\n",
    "        pd.set_option('display.max_colwidth', -1)\n",
    "        print(index, row['INcident_ID'], row['Px NAME'], df[df.NOTES.str.contains('|'.join(keep))],'\\n')\n",
    "        "
   ]
  },
  {
   "cell_type": "code",
   "execution_count": null,
   "id": "c73796ee",
   "metadata": {},
   "outputs": [],
   "source": [
    "import pandas as pd\n",
    "INC_ID = input('Enter your incident_id: ')\n",
    "Provider_name = input('Enter your Provider name: ')\n",
    "\n",
    "\n",
    "df = pd.read_csv('TRACKER XYZ-R@@M - Sheet1 (1).csv')\n",
    "keep = [\"reje\"]\n",
    "for index, row in df.iterrows():\n",
    "    if  INC_ID == row['INcident_ID'] and Provider_name == row['Px NAME']:\n",
    "        if  df[df['NOTES'].str.contains('reje', regex = False)]:\n",
    "            \n",
    "            \n",
    "            pd.set_option('display.max_colwidth', -1)\n",
    "            print(index, row['INcident_ID'], row['Px NAME'], row['NOTES'],'\\n')\n",
    "        "
   ]
  },
  {
   "cell_type": "code",
   "execution_count": null,
   "id": "0c9781dd",
   "metadata": {},
   "outputs": [],
   "source": [
    "#execute this one\n",
    "\n",
    "import pandas as pd\n",
    "\n",
    "df1 = pd.read_csv('TRACKER XYZ-R@@M - Sheet1 (1).csv')\n",
    "df1"
   ]
  },
  {
   "cell_type": "code",
   "execution_count": null,
   "id": "46ffd323",
   "metadata": {},
   "outputs": [],
   "source": [
    "pd.set_option('display.max_colwidth', None)\n",
    "df1[df1['NOTES'].str.contains('reje(?!$)')]\n"
   ]
  },
  {
   "cell_type": "code",
   "execution_count": null,
   "id": "f8ffd82a",
   "metadata": {},
   "outputs": [],
   "source": [
    "INC_ID = input('Enter your incident_id: ')\n",
    "Provider_name = input('Enter your Provider name: ')"
   ]
  },
  {
   "cell_type": "code",
   "execution_count": 18,
   "id": "0289aec3",
   "metadata": {},
   "outputs": [
    {
     "name": "stdout",
     "output_type": "stream",
     "text": [
      "Enter the INCIDENT ID:  170872963-01\n",
      "ENTER the PROVIDERs name : Nancy Bautista\n"
     ]
    },
    {
     "data": {
      "text/html": [
       "<div>\n",
       "<style scoped>\n",
       "    .dataframe tbody tr th:only-of-type {\n",
       "        vertical-align: middle;\n",
       "    }\n",
       "\n",
       "    .dataframe tbody tr th {\n",
       "        vertical-align: top;\n",
       "    }\n",
       "\n",
       "    .dataframe thead th {\n",
       "        text-align: right;\n",
       "    }\n",
       "</style>\n",
       "<table border=\"1\" class=\"dataframe\">\n",
       "  <thead>\n",
       "    <tr style=\"text-align: right;\">\n",
       "      <th></th>\n",
       "      <th>INcident_ID</th>\n",
       "      <th>NOTES</th>\n",
       "      <th>Px NAME</th>\n",
       "    </tr>\n",
       "  </thead>\n",
       "  <tbody>\n",
       "    <tr>\n",
       "      <th>7</th>\n",
       "      <td>170872963-01</td>\n",
       "      <td>MRP XYZ DATE 2-1-22 called Provider Dr.Nancy Bautista on PH# 1234567890 said that the records willbe sent , but rejected to fill the form  given verbally , conf fax to went recs 0987654321 moved to MRPFU2</td>\n",
       "      <td>Nancy Bautista</td>\n",
       "    </tr>\n",
       "  </tbody>\n",
       "</table>\n",
       "</div>"
      ],
      "text/plain": [
       "    INcident_ID  \\\n",
       "7  170872963-01   \n",
       "\n",
       "                                                                                                                                                                                                          NOTES  \\\n",
       "7  MRP XYZ DATE 2-1-22 called Provider Dr.Nancy Bautista on PH# 1234567890 said that the records willbe sent , but rejected to fill the form  given verbally , conf fax to went recs 0987654321 moved to MRPFU2   \n",
       "\n",
       "          Px NAME  \n",
       "7  Nancy Bautista  "
      ]
     },
     "execution_count": 18,
     "metadata": {},
     "output_type": "execute_result"
    }
   ],
   "source": [
    "#execute this one \n",
    "\n",
    "INC_INPUT = input('Enter the INCIDENT ID:  ')\n",
    "PROVIDER_INPUT = input('ENTER the PROVIDERs name : ')\n",
    "\n",
    "pd.set_option('display.max_colwidth', None) ### FINALLY WORKED !!!\n",
    "df1[(df1['NOTES'].str.contains('reje(?!$)')) & (df1['INcident_ID'] == INC_INPUT) & (df1['Px NAME'] == PROVIDER_INPUT) ]"
   ]
  },
  {
   "cell_type": "code",
   "execution_count": null,
   "id": "9391372e",
   "metadata": {},
   "outputs": [],
   "source": []
  }
 ],
 "metadata": {
  "kernelspec": {
   "display_name": "Python 3 (ipykernel)",
   "language": "python",
   "name": "python3"
  },
  "language_info": {
   "codemirror_mode": {
    "name": "ipython",
    "version": 3
   },
   "file_extension": ".py",
   "mimetype": "text/x-python",
   "name": "python",
   "nbconvert_exporter": "python",
   "pygments_lexer": "ipython3",
   "version": "3.9.12"
  }
 },
 "nbformat": 4,
 "nbformat_minor": 5
}
